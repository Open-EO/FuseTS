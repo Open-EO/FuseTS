{
 "cells": [
  {
   "cell_type": "markdown",
   "id": "3d58e2f2",
   "metadata": {
    "id": "3d58e2f2"
   },
   "source": [
    "# FuseTS - MOGPR Multi Source Fusion openEO Workflow\n",
    "\n",
    "In this notebook, we'll demonstrate how to use openEO's diverse capabilities to build a workflow for fusing data. In this particular case, we'll integrate both FuseTS's MOGPR service to fuse a datacube that contains multiple data sources. In this example, we'll be chosing Sentinel 2 NDVI and S1 Coherence data.\n",
    "\n",
    "**Prerequisites**\n",
    "- In this notebook, we utilize openEO to retrieve time series data. To leverage the full range of openEO features, you can create a free trial account on the [openEO Platform](https://docs.openeo.cloud/join/free_trial.html) and receive 1000 free credits, enabling you to execute the functionalities showcased in this notebook.\n"
   ]
  },
  {
   "cell_type": "markdown",
   "id": "9b7f006d",
   "metadata": {
    "id": "9b7f006d"
   },
   "source": [
    "Lets start with importing the different libraries that we need within this notebook.\n"
   ]
  },
  {
   "cell_type": "markdown",
   "id": "1f517e4f-229f-4d85-9f1e-9f43d614a6cb",
   "metadata": {
    "id": "1f517e4f-229f-4d85-9f1e-9f43d614a6cb"
   },
   "source": [
    "## Setting up the environment\n",
    "\n",
    "First of all we need to make sure that all our dependencies are correctly installed.\n"
   ]
  },
  {
   "cell_type": "code",
   "execution_count": 1,
   "id": "47aa953d",
   "metadata": {
    "id": "47aa953d"
   },
   "outputs": [
    {
     "name": "stdout",
     "output_type": "stream",
     "text": [
      "Requirement already satisfied: openeo in /Users/bramjanssen/projects/vito/FuseTS/venv_clean_v2/lib/python3.8/site-packages (0.22.0)\n",
      "Requirement already satisfied: shapely>=1.6.4 in /Users/bramjanssen/projects/vito/FuseTS/venv_clean_v2/lib/python3.8/site-packages (from openeo) (2.0.1)\n",
      "Requirement already satisfied: requests>=2.26.0 in /Users/bramjanssen/projects/vito/FuseTS/venv_clean_v2/lib/python3.8/site-packages (from openeo) (2.31.0)\n",
      "Requirement already satisfied: xarray>=0.12.3 in /Users/bramjanssen/projects/vito/FuseTS/venv_clean_v2/lib/python3.8/site-packages (from openeo) (2023.1.0)\n",
      "Requirement already satisfied: deprecated>=1.2.12 in /Users/bramjanssen/projects/vito/FuseTS/venv_clean_v2/lib/python3.8/site-packages (from openeo) (1.2.14)\n",
      "Requirement already satisfied: numpy>=1.17.0 in /Users/bramjanssen/projects/vito/FuseTS/venv_clean_v2/lib/python3.8/site-packages (from openeo) (1.23.5)\n",
      "Requirement already satisfied: pandas>0.20.0 in /Users/bramjanssen/projects/vito/FuseTS/venv_clean_v2/lib/python3.8/site-packages (from openeo) (2.0.3)\n",
      "Requirement already satisfied: wrapt<2,>=1.10 in /Users/bramjanssen/projects/vito/FuseTS/venv_clean_v2/lib/python3.8/site-packages (from deprecated>=1.2.12->openeo) (1.15.0)\n",
      "Requirement already satisfied: pytz>=2020.1 in /Users/bramjanssen/projects/vito/FuseTS/venv_clean_v2/lib/python3.8/site-packages (from pandas>0.20.0->openeo) (2023.3)\n",
      "Requirement already satisfied: python-dateutil>=2.8.2 in /Users/bramjanssen/projects/vito/FuseTS/venv_clean_v2/lib/python3.8/site-packages (from pandas>0.20.0->openeo) (2.8.2)\n",
      "Requirement already satisfied: tzdata>=2022.1 in /Users/bramjanssen/projects/vito/FuseTS/venv_clean_v2/lib/python3.8/site-packages (from pandas>0.20.0->openeo) (2023.3)\n",
      "Requirement already satisfied: urllib3<3,>=1.21.1 in /Users/bramjanssen/projects/vito/FuseTS/venv_clean_v2/lib/python3.8/site-packages (from requests>=2.26.0->openeo) (2.0.4)\n",
      "Requirement already satisfied: idna<4,>=2.5 in /Users/bramjanssen/projects/vito/FuseTS/venv_clean_v2/lib/python3.8/site-packages (from requests>=2.26.0->openeo) (3.4)\n",
      "Requirement already satisfied: certifi>=2017.4.17 in /Users/bramjanssen/projects/vito/FuseTS/venv_clean_v2/lib/python3.8/site-packages (from requests>=2.26.0->openeo) (2023.7.22)\n",
      "Requirement already satisfied: charset-normalizer<4,>=2 in /Users/bramjanssen/projects/vito/FuseTS/venv_clean_v2/lib/python3.8/site-packages (from requests>=2.26.0->openeo) (3.2.0)\n",
      "Requirement already satisfied: packaging>=21.3 in /Users/bramjanssen/projects/vito/FuseTS/venv_clean_v2/lib/python3.8/site-packages (from xarray>=0.12.3->openeo) (23.1)\n",
      "Requirement already satisfied: six>=1.5 in /Users/bramjanssen/projects/vito/FuseTS/venv_clean_v2/lib/python3.8/site-packages (from python-dateutil>=2.8.2->pandas>0.20.0->openeo) (1.16.0)\n",
      "\n",
      "\u001B[1m[\u001B[0m\u001B[34;49mnotice\u001B[0m\u001B[1;39;49m]\u001B[0m\u001B[39;49m A new release of pip available: \u001B[0m\u001B[31;49m22.3.1\u001B[0m\u001B[39;49m -> \u001B[0m\u001B[32;49m24.0\u001B[0m\n",
      "\u001B[1m[\u001B[0m\u001B[34;49mnotice\u001B[0m\u001B[1;39;49m]\u001B[0m\u001B[39;49m To update, run: \u001B[0m\u001B[32;49mpip install --upgrade pip\u001B[0m\n"
     ]
    }
   ],
   "source": [
    "!pip install openeo"
   ]
  },
  {
   "cell_type": "code",
   "execution_count": 2,
   "id": "35b24fd9",
   "metadata": {
    "id": "35b24fd9",
    "tags": []
   },
   "outputs": [],
   "source": [
    "\n",
    "import json\n",
    "import warnings\n",
    "\n",
    "import numpy as np\n",
    "import pandas as pd\n",
    "\n",
    "import openeo\n",
    "from openeo.rest.conversions import timeseries_json_to_pandas\n",
    "\n",
    "import xarray\n",
    "\n",
    "import matplotlib.pyplot as plt\n",
    "\n",
    "from ipyleaflet import GeoJSON, Map, basemaps\n",
    "\n",
    "warnings.filterwarnings(\"ignore\")"
   ]
  },
  {
   "cell_type": "markdown",
   "id": "69bbf07b-97d9-4873-b8e6-d0eb2b63f6c9",
   "metadata": {},
   "source": [
    "# Exploring the area of interest\n",
    "In this first part, we will explore the area of interest that will be used for calculating the phenology metrics."
   ]
  },
  {
   "cell_type": "code",
   "execution_count": 3,
   "id": "37b1970f",
   "metadata": {
    "id": "37b1970f",
    "tags": []
   },
   "outputs": [],
   "source": [
    "year = 2023\n",
    "spat_ext = {\n",
    "    \"type\": \"Polygon\",\n",
    "    \"coordinates\": [\n",
    "        [\n",
    "            [\n",
    "                5.170012098271149,\n",
    "                51.25062964728295\n",
    "            ],\n",
    "            [\n",
    "                5.17085904378298,\n",
    "                51.24882567194015\n",
    "            ],\n",
    "            [\n",
    "                5.17857421368097,\n",
    "                51.2468515482926\n",
    "            ],\n",
    "            [\n",
    "                5.178972704726344,\n",
    "                51.24982704376254\n",
    "            ],\n",
    "            [\n",
    "                5.170012098271149,\n",
    "                51.25062964728295\n",
    "            ]\n",
    "        ]\n",
    "    ]\n",
    "}\n",
    "temp_ext = [f\"{year}-01-01\", f\"{year}-12-01\"]"
   ]
  },
  {
   "cell_type": "markdown",
   "id": "2ebb96d4",
   "metadata": {
    "id": "2ebb96d4"
   },
   "source": [
    "Plot the area to see what we're working with.\n"
   ]
  },
  {
   "cell_type": "code",
   "execution_count": 4,
   "id": "b2bf0d05",
   "metadata": {
    "colab": {
     "base_uri": "https://localhost:8080/",
     "height": 421,
     "referenced_widgets": [
      "ae380de71eee4a5db3f93b4d72391c55",
      "5bde1dfbad6a4c38bdeec7f198292be2",
      "4dea090226fb4def9909b02d5a79f92a",
      "1c42eea0ba6f4a00b594b7317991a774",
      "a6b2219658314282b9714ead2b5bcbb8",
      "fa72b583a1fd4247911a5500ec07dc62",
      "7dfc8a56f36447f388cd7450ad0f209e",
      "075be31fc63941ab8c7f3c0ac8ee27d4",
      "78e3180acb034052bdfe52ecbcde3dd2"
     ]
    },
    "id": "b2bf0d05",
    "outputId": "2418e4e3-34fe-4903-e217-9cd4f999dbe6"
   },
   "outputs": [
    {
     "data": {
      "application/vnd.jupyter.widget-view+json": {
       "model_id": "ffe4d7eb5f4247468a3b9ef6e98042aa",
       "version_major": 2,
       "version_minor": 0
      },
      "text/plain": [
       "Map(center=[51.249352711712234, 5.173686031746518], controls=(ZoomControl(options=['position', 'zoom_in_text',…"
      ]
     },
     "execution_count": 4,
     "metadata": {},
     "output_type": "execute_result"
    }
   ],
   "source": [
    "center = np.mean(spat_ext[\"coordinates\"][0], axis=0).tolist()[::-1]\n",
    "zoom = 16\n",
    "\n",
    "m = Map(basemap=basemaps.Esri.WorldImagery, center=center, zoom=zoom)\n",
    "g = GeoJSON(\n",
    "    data=spat_ext,\n",
    "    style={\n",
    "        \"color\": \"red\",\n",
    "        \"opacity\": 1,\n",
    "        \"weight\": 1.9,\n",
    "        \"dashArray\": \"9\",\n",
    "        \"fillOpacity\": 0.5,\n",
    "    },\n",
    ")\n",
    "m.add(g)\n",
    "m"
   ]
  },
  {
   "cell_type": "markdown",
   "id": "19e8133f-8b24-45df-9c5d-f5bd92f78e46",
   "metadata": {},
   "source": [
    "# Setting up connection with openEO\n",
    "\n",
    "The first step in setting up the workflow, is creating a connection with openEO. "
   ]
  },
  {
   "cell_type": "code",
   "execution_count": 5,
   "id": "25dd29b3-856b-4b47-b814-834036262ce2",
   "metadata": {},
   "outputs": [
    {
     "name": "stdout",
     "output_type": "stream",
     "text": [
      "Authenticated using refresh token.\n"
     ]
    }
   ],
   "source": [
    "connection = openeo.connect(\"openeo.vito.be\").authenticate_oidc()"
   ]
  },
  {
   "cell_type": "markdown",
   "id": "702803f6",
   "metadata": {
    "id": "702803f6"
   },
   "source": [
    "# Creating the input data cube\n",
    "\n",
    "In the following section, we will leverage the capabilities of openEO to create a datacube that contains multiple data sources"
   ]
  },
  {
   "cell_type": "markdown",
   "id": "5ed09a40-ab57-442b-a256-8b3fc7dfc0c1",
   "metadata": {},
   "source": [
    "First we start creating a datacube that represents the NDVI values to be calculated."
   ]
  },
  {
   "cell_type": "code",
   "execution_count": 6,
   "id": "dbd5f5dd-69e6-4d16-ad76-51827f262d2f",
   "metadata": {},
   "outputs": [],
   "source": [
    "scl = connection.load_collection('SENTINEL2_L2A',\n",
    "                                     spatial_extent=spat_ext,\n",
    "                                     temporal_extent=temp_ext,\n",
    "                                     bands=[\"SCL\"])\n",
    "cloud_mask = scl.process(\n",
    "    \"to_scl_dilation_mask\",\n",
    "    data=scl,\n",
    "    kernel1_size=17, kernel2_size=77,\n",
    "    mask1_values=[2, 4, 5, 6, 7],\n",
    "    mask2_values=[3, 8, 9, 10, 11],\n",
    "    erosion_kernel_size=3)\n",
    "base_s2 = connection.load_collection('SENTINEL2_L2A',\n",
    "                                     spatial_extent=spat_ext,\n",
    "                                     temporal_extent=temp_ext,\n",
    "                                     bands=[\"B04\", \"B08\", \"SCL\"])\n",
    "base_s2 = base_s2.process(\"mask_scl_dilation\", data=base_s2, scl_band_name=\"SCL\")\n",
    "base_s2 = base_s2.ndvi(red=\"B04\", nir=\"B08\", target_band='NDVI')\n",
    "base_s2 = base_s2.filter_bands(bands=['NDVI'])\n",
    "base_s2 = base_s2.mask_polygon(spat_ext)"
   ]
  },
  {
   "cell_type": "markdown",
   "id": "3b02f417-cf53-4fec-8b5a-6b5b71511c57",
   "metadata": {},
   "source": [
    "The second datacube will contain the RVI data for the given temporal and spatial extent."
   ]
  },
  {
   "cell_type": "code",
   "execution_count": 7,
   "id": "369304a6-5020-413c-9a0f-162cc242a0ad",
   "metadata": {},
   "outputs": [],
   "source": [
    "base_s1 = connection.load_collection('SENTINEL1_GRD',\n",
    "                                     spatial_extent=spat_ext,\n",
    "                                     temporal_extent=temp_ext,\n",
    "                                     bands=[\"VH\", \"VV\"])\n",
    "\n",
    "VH = base_s1.band(\"VH\")\n",
    "VV = base_s1.band(\"VV\")\n",
    "base_s1 = (VH + VH) / (VV + VH)\n",
    "base_s1 = base_s1.add_dimension(name=\"bands\", label=\"RVI\",type=\"bands\")"
   ]
  },
  {
   "cell_type": "markdown",
   "id": "8a93dce7-bf9c-4a38-b044-b4c5784200ef",
   "metadata": {},
   "source": [
    "Next we merge the two datacubes."
   ]
  },
  {
   "cell_type": "code",
   "execution_count": 8,
   "id": "ffcfafe2-40a1-44ff-a738-fb86b66ce65c",
   "metadata": {},
   "outputs": [],
   "source": [
    "merged_datacube = base_s2.merge(base_s1)"
   ]
  },
  {
   "cell_type": "markdown",
   "id": "4b018170-731c-4170-ae1a-feedb5383fbd",
   "metadata": {},
   "source": [
    "# Downloading the original timeseries values\n",
    "Before continuing with the data fusion step, we download the time series for both the S1 and S2 data. This would allow us to later compare the raw values with the fused data set."
   ]
  },
  {
   "cell_type": "code",
   "execution_count": 9,
   "id": "299a18e3-63d3-4e05-83e3-9460fe059705",
   "metadata": {},
   "outputs": [],
   "source": [
    "base_s2 = base_s2.aggregate_spatial(spat_ext, reducer='mean')\n",
    "base_s2.download('./mogpr-multisource-s2-base.json', format='json')"
   ]
  },
  {
   "cell_type": "code",
   "execution_count": 10,
   "id": "faec8adf-2a1d-486e-a363-544d2158f56b",
   "metadata": {},
   "outputs": [],
   "source": [
    "base_s1 = base_s1.aggregate_spatial(spat_ext, reducer='mean')\n",
    "base_s1.download('./mogpr-multisource-s1-base.json', format='json')"
   ]
  },
  {
   "cell_type": "markdown",
   "id": "4b83aa34-29f6-482b-b805-a43cb39d30c4",
   "metadata": {},
   "source": [
    "# Executing the MOGPR function\n",
    "The input data cube is now passed to the MOGPR function. Additionally, we also calculate the mean timeseries values for the given area of interest."
   ]
  },
  {
   "cell_type": "code",
   "execution_count": 11,
   "id": "2b27ec81-2543-4fbb-b6c5-2ac796df9e76",
   "metadata": {},
   "outputs": [],
   "source": [
    "service = 'mogpr'\n",
    "namespace = 'u:fusets'\n",
    "mogpr = connection.datacube_from_process(service,\n",
    "                                         namespace=f'https://openeo.vito.be/openeo/1.1/processes/{namespace}/{service}',\n",
    "                                         data=merged_datacube, include_uncertainties=True)"
   ]
  },
  {
   "cell_type": "markdown",
   "id": "1bdea476-661e-4271-a118-776a6c8fb6aa",
   "metadata": {},
   "source": [
    "# Downloading the results\n",
    "Now that we've setup our workflow, we can now download the results by starting an openEO batch job."
   ]
  },
  {
   "cell_type": "code",
   "execution_count": 12,
   "id": "632a7088-67c2-4f89-95ff-813e4587f2be",
   "metadata": {},
   "outputs": [],
   "source": [
    "mogpr_output_file = './mogpr-multisource.nc'"
   ]
  },
  {
   "cell_type": "code",
   "execution_count": 13,
   "id": "db4ac328-5413-4304-b1a5-b1c6dd6710fc",
   "metadata": {},
   "outputs": [
    {
     "name": "stdout",
     "output_type": "stream",
     "text": [
      "0:00:00 Job 'j-2402293289fa4f10ad53fdd013e085dd': send 'start'\n",
      "0:03:47 Job 'j-2402293289fa4f10ad53fdd013e085dd': queued (progress N/A)\n",
      "0:03:52 Job 'j-2402293289fa4f10ad53fdd013e085dd': queued (progress N/A)\n",
      "0:03:59 Job 'j-2402293289fa4f10ad53fdd013e085dd': queued (progress N/A)\n",
      "0:04:07 Job 'j-2402293289fa4f10ad53fdd013e085dd': queued (progress N/A)\n",
      "0:05:02 Job 'j-2402293289fa4f10ad53fdd013e085dd': Connection error while polling job status: ('Connection aborted.', TimeoutError(60, 'Operation timed out'))\n",
      "0:05:33 Job 'j-2402293289fa4f10ad53fdd013e085dd': queued (progress N/A)\n",
      "0:05:46 Job 'j-2402293289fa4f10ad53fdd013e085dd': queued (progress N/A)\n",
      "0:06:01 Job 'j-2402293289fa4f10ad53fdd013e085dd': queued (progress N/A)\n",
      "0:06:20 Job 'j-2402293289fa4f10ad53fdd013e085dd': queued (progress N/A)\n",
      "0:06:45 Job 'j-2402293289fa4f10ad53fdd013e085dd': queued (progress N/A)\n",
      "0:07:16 Job 'j-2402293289fa4f10ad53fdd013e085dd': queued (progress N/A)\n",
      "0:07:54 Job 'j-2402293289fa4f10ad53fdd013e085dd': queued (progress N/A)\n",
      "0:08:41 Job 'j-2402293289fa4f10ad53fdd013e085dd': queued (progress N/A)\n",
      "0:09:39 Job 'j-2402293289fa4f10ad53fdd013e085dd': queued (progress N/A)\n",
      "0:10:40 Job 'j-2402293289fa4f10ad53fdd013e085dd': queued (progress N/A)\n",
      "0:11:40 Job 'j-2402293289fa4f10ad53fdd013e085dd': running (progress N/A)\n",
      "0:12:41 Job 'j-2402293289fa4f10ad53fdd013e085dd': running (progress N/A)\n",
      "0:13:41 Job 'j-2402293289fa4f10ad53fdd013e085dd': running (progress N/A)\n",
      "0:14:42 Job 'j-2402293289fa4f10ad53fdd013e085dd': running (progress N/A)\n",
      "0:15:42 Job 'j-2402293289fa4f10ad53fdd013e085dd': running (progress N/A)\n",
      "0:16:43 Job 'j-2402293289fa4f10ad53fdd013e085dd': running (progress N/A)\n",
      "0:17:43 Job 'j-2402293289fa4f10ad53fdd013e085dd': running (progress N/A)\n",
      "0:18:43 Job 'j-2402293289fa4f10ad53fdd013e085dd': running (progress N/A)\n",
      "0:19:44 Job 'j-2402293289fa4f10ad53fdd013e085dd': running (progress N/A)\n",
      "0:20:44 Job 'j-2402293289fa4f10ad53fdd013e085dd': running (progress N/A)\n",
      "0:21:44 Job 'j-2402293289fa4f10ad53fdd013e085dd': running (progress N/A)\n",
      "0:22:45 Job 'j-2402293289fa4f10ad53fdd013e085dd': running (progress N/A)\n",
      "0:23:46 Job 'j-2402293289fa4f10ad53fdd013e085dd': running (progress N/A)\n",
      "0:24:46 Job 'j-2402293289fa4f10ad53fdd013e085dd': running (progress N/A)\n",
      "0:25:47 Job 'j-2402293289fa4f10ad53fdd013e085dd': running (progress N/A)\n",
      "0:26:47 Job 'j-2402293289fa4f10ad53fdd013e085dd': running (progress N/A)\n",
      "0:27:48 Job 'j-2402293289fa4f10ad53fdd013e085dd': running (progress N/A)\n",
      "0:28:48 Job 'j-2402293289fa4f10ad53fdd013e085dd': running (progress N/A)\n",
      "0:29:49 Job 'j-2402293289fa4f10ad53fdd013e085dd': finished (progress N/A)\n"
     ]
    }
   ],
   "source": [
    "mogpr_job = mogpr.execute_batch(mogpr_output_file, out_format=\"netcdf\",\n",
    "                                title=f'FuseTS - MOGPR - Multi Source', job_options={\n",
    "        'executor-memory': '8g',\n",
    "        'udf-dependency-archives': [ \n",
    "            'https://artifactory.vgt.vito.be:443/artifactory/auxdata-public/ai4food/fusets_venv.zip#tmp/venv',\n",
    "            'https://artifactory.vgt.vito.be:443/artifactory/auxdata-public/ai4food/fusets.zip#tmp/venv_static'\n",
    "        ]\n",
    "    })"
   ]
  },
  {
   "cell_type": "markdown",
   "id": "3235c845-50fa-484d-85c3-1695d6ef88b5",
   "metadata": {},
   "source": [
    "# Explore the results¶"
   ]
  },
  {
   "cell_type": "code",
   "execution_count": 41,
   "id": "84dab365-5139-4e62-9f1d-438329614d21",
   "metadata": {
    "scrolled": true
   },
   "outputs": [],
   "source": [
    "cols = ['RVI - Raw', 'NDVI - Raw']\n",
    "cubes_dfs = []\n",
    "for result in ['mogpr-multisource-s1-base.json', 'mogpr-multisource-s2-base.json']:\n",
    "    with open(result, 'r') as result_file:\n",
    "        df = timeseries_json_to_pandas(json.load(result_file)).to_frame()\n",
    "        df.index = pd.to_datetime(df.index).date\n",
    "        df.index.name = 't'\n",
    "        df.columns = [f'{result.split(\"-\")[2].upper()}-RAW']\n",
    "        cubes_dfs.append(df)\n",
    "        result_file.close()\n",
    "        "
   ]
  },
  {
   "cell_type": "code",
   "execution_count": 42,
   "id": "3c917463-41ac-403e-8595-f1e34a6382ef",
   "metadata": {},
   "outputs": [],
   "source": [
    "ds = xarray.load_dataset(mogpr_output_file)\n",
    "for var in ds.data_vars.items():\n",
    "    if var[0] != 'crs':\n",
    "        var_df = var[1].mean(dim=['x', 'y'])\n",
    "        var_df = var_df.to_dataframe()\n",
    "        var_df.index = pd.to_datetime(var_df.index)\n",
    "        var_df['date'] = var_df.index.date\n",
    "        var_df = var_df.set_index('date')\n",
    "        cubes_dfs.append(var_df)"
   ]
  },
  {
   "cell_type": "code",
   "execution_count": 43,
   "id": "a1de65f1-9a5c-4c20-91ea-5c0eddcbdc5d",
   "metadata": {},
   "outputs": [],
   "source": [
    "joined_df = pd.concat(cubes_dfs, axis=1)\n",
    "joined_df = joined_df.rename(columns={'S1-RAW': cols[0], 'S2-RAW': cols[1], 'NDVI': 'NDVI - Smoothed', 'RVI': 'RVI - Smoothed', 'unkown_band_2': 'NDVI - Uncertainty', 'unkown_band_3': 'RVI - Uncertainty'})\n",
    "joined_df = joined_df.sort_index()"
   ]
  },
  {
   "cell_type": "code",
   "execution_count": 45,
   "id": "8826c305-1f4c-481f-88aa-291d80e38448",
   "metadata": {},
   "outputs": [
    {
     "data": {
      "text/plain": [
       "<matplotlib.legend.Legend at 0x138ce7d90>"
      ]
     },
     "execution_count": 45,
     "metadata": {},
     "output_type": "execute_result"
    },
    {
     "data": {
      "image/png": "[encoded data removed]",
      "text/plain": [
       "<Figure size 1600x600 with 1 Axes>"
      ]
     },
     "metadata": {},
     "output_type": "display_data"
    }
   ],
   "source": [
    "plt.figure(figsize=(16, 6))\n",
    "std_col_mapping = {\n",
    "    'NDVI - Uncertainty': 'NDVI - Smoothed',\n",
    "    'RVI - Uncertainty': 'RVI - Smoothed'\n",
    "}\n",
    "for col in sorted(joined_df.columns.values):\n",
    "    values = joined_df[~joined_df[col].isna()]\n",
    "    if 'Uncertainty' in col:\n",
    "        plt.fill_between(values.index, values[std_col_mapping[col]] - values[col], values[std_col_mapping[col]] + values[col], alpha=0.2, label=col)\n",
    "    else:\n",
    "        plt.plot(values.index, values[col], '.' if 'Raw' in col else '-.', label=col)\n",
    "plt.grid(True)\n",
    "plt.legend()"
   ]
  },
  {
   "cell_type": "code",
   "execution_count": null,
   "id": "8dd182d1-8865-4d7f-a924-1786bfff7634",
   "metadata": {},
   "outputs": [],
   "source": []
  }
 ],
 "metadata": {
  "colab": {
   "provenance": []
  },
  "kernelspec": {
   "display_name": "Python 3 (ipykernel)",
   "language": "python",
   "name": "python3"
  },
  "language_info": {
   "codemirror_mode": {
    "name": "ipython",
    "version": 3
   },
   "file_extension": ".py",
   "mimetype": "text/x-python",
   "name": "python",
   "nbconvert_exporter": "python",
   "pygments_lexer": "ipython3",
   "version": "3.8.17"
  },
  "vscode": {
   "interpreter": {
    "hash": "5c03b434e59eed88f0de80727dd778a0649e6474303457c247ef449eabdd7cac"
   }
  },
  "widgets": {
   "application/vnd.jupyter.widget-state+json": {
    "075be31fc63941ab8c7f3c0ac8ee27d4": {
     "model_module": "@jupyter-widgets/base",
     "model_module_version": "1.2.0",
     "model_name": "LayoutModel",
     "state": {
      "_model_module": "@jupyter-widgets/base",
      "_model_module_version": "1.2.0",
      "_model_name": "LayoutModel",
      "_view_count": null,
      "_view_module": "@jupyter-widgets/base",
      "_view_module_version": "1.2.0",
      "_view_name": "LayoutView",
      "align_content": null,
      "align_items": null,
      "align_self": null,
      "border": null,
      "bottom": null,
      "display": null,
      "flex": null,
      "flex_flow": null,
      "grid_area": null,
      "grid_auto_columns": null,
      "grid_auto_flow": null,
      "grid_auto_rows": null,
      "grid_column": null,
      "grid_gap": null,
      "grid_row": null,
      "grid_template_areas": null,
      "grid_template_columns": null,
      "grid_template_rows": null,
      "height": null,
      "justify_content": null,
      "justify_items": null,
      "left": null,
      "margin": null,
      "max_height": null,
      "max_width": null,
      "min_height": null,
      "min_width": null,
      "object_fit": null,
      "object_position": null,
      "order": null,
      "overflow": null,
      "overflow_x": null,
      "overflow_y": null,
      "padding": null,
      "right": null,
      "top": null,
      "visibility": null,
      "width": null
     }
    },
    "1c42eea0ba6f4a00b594b7317991a774": {
     "model_module": "jupyter-leaflet",
     "model_module_version": "^0.17",
     "model_name": "LeafletMapStyleModel",
     "state": {
      "_model_module": "jupyter-leaflet",
      "_model_module_version": "^0.17",
      "_model_name": "LeafletMapStyleModel",
      "_view_count": null,
      "_view_module": "@jupyter-widgets/base",
      "_view_module_version": "1.2.0",
      "_view_name": "StyleView",
      "cursor": "grab"
     }
    },
    "4dea090226fb4def9909b02d5a79f92a": {
     "model_module": "jupyter-leaflet",
     "model_module_version": "^0.17",
     "model_name": "LeafletAttributionControlModel",
     "state": {
      "_model_module": "jupyter-leaflet",
      "_model_module_version": "^0.17",
      "_model_name": "LeafletAttributionControlModel",
      "_view_count": null,
      "_view_module": "jupyter-leaflet",
      "_view_module_version": "^0.17",
      "_view_name": "LeafletAttributionControlView",
      "options": [
       "position",
       "prefix"
      ],
      "position": "bottomright",
      "prefix": "ipyleaflet"
     }
    },
    "5bde1dfbad6a4c38bdeec7f198292be2": {
     "model_module": "jupyter-leaflet",
     "model_module_version": "^0.17",
     "model_name": "LeafletZoomControlModel",
     "state": {
      "_model_module": "jupyter-leaflet",
      "_model_module_version": "^0.17",
      "_model_name": "LeafletZoomControlModel",
      "_view_count": null,
      "_view_module": "jupyter-leaflet",
      "_view_module_version": "^0.17",
      "_view_name": "LeafletZoomControlView",
      "options": [
       "position",
       "zoom_in_text",
       "zoom_in_title",
       "zoom_out_text",
       "zoom_out_title"
      ],
      "position": "topleft",
      "zoom_in_text": "+",
      "zoom_in_title": "Zoom in",
      "zoom_out_text": "-",
      "zoom_out_title": "Zoom out"
     }
    },
    "78e3180acb034052bdfe52ecbcde3dd2": {
     "model_module": "jupyter-leaflet",
     "model_module_version": "^0.17",
     "model_name": "LeafletMapStyleModel",
     "state": {
      "_model_module": "jupyter-leaflet",
      "_model_module_version": "^0.17",
      "_model_name": "LeafletMapStyleModel",
      "_view_count": null,
      "_view_module": "@jupyter-widgets/base",
      "_view_module_version": "1.2.0",
      "_view_name": "StyleView",
      "cursor": "grab"
     }
    },
    "7dfc8a56f36447f388cd7450ad0f209e": {
     "model_module": "jupyter-leaflet",
     "model_module_version": "^0.17",
     "model_name": "LeafletGeoJSONModel",
     "state": {
      "_model_module": "jupyter-leaflet",
      "_model_module_version": "^0.17",
      "_model_name": "LeafletGeoJSONModel",
      "_view_count": null,
      "_view_module": "jupyter-leaflet",
      "_view_module_version": "^0.17",
      "_view_name": "LeafletGeoJSONView",
      "base": false,
      "bottom": false,
      "data": {
       "coordinates": [
        [
         [
          -4.875091217039325,
          41.77290587433312
         ],
         [
          -4.872773788450457,
          41.77290587433312
         ],
         [
          -4.872773788450457,
          41.77450614847532
         ],
         [
          -4.875091217039325,
          41.77450614847532
         ],
         [
          -4.875091217039325,
          41.77290587433312
         ]
        ]
       ],
       "type": "Polygon"
      },
      "hover_style": {},
      "layers": [],
      "name": "",
      "options": [],
      "pane": "",
      "point_style": {},
      "popup": null,
      "popup_max_height": null,
      "popup_max_width": 300,
      "popup_min_width": 50,
      "style": {
       "color": "red",
       "dashArray": "9",
       "fillOpacity": 0.5,
       "opacity": 1,
       "weight": 1.9
      },
      "subitems": [],
      "visible": true
     }
    },
    "a6b2219658314282b9714ead2b5bcbb8": {
     "model_module": "jupyter-leaflet",
     "model_module_version": "^0.17",
     "model_name": "LeafletMapStyleModel",
     "state": {
      "_model_module": "jupyter-leaflet",
      "_model_module_version": "^0.17",
      "_model_name": "LeafletMapStyleModel",
      "_view_count": null,
      "_view_module": "@jupyter-widgets/base",
      "_view_module_version": "1.2.0",
      "_view_name": "StyleView",
      "cursor": "move"
     }
    },
    "ae380de71eee4a5db3f93b4d72391c55": {
     "model_module": "jupyter-leaflet",
     "model_module_version": "^0.17",
     "model_name": "LeafletMapModel",
     "state": {
      "_dom_classes": [],
      "_model_module": "jupyter-leaflet",
      "_model_module_version": "^0.17",
      "_model_name": "LeafletMapModel",
      "_view_count": null,
      "_view_module": "jupyter-leaflet",
      "_view_module_version": "^0.17",
      "_view_name": "LeafletMapView",
      "bottom": 6242364,
      "bounce_at_zoom_limits": true,
      "box_zoom": true,
      "center": [
       41.773545983990005,
       -4.874164245603778
      ],
      "close_popup_on_click": true,
      "controls": [
       "IPY_MODEL_5bde1dfbad6a4c38bdeec7f198292be2",
       "IPY_MODEL_4dea090226fb4def9909b02d5a79f92a"
      ],
      "crs": {
       "custom": false,
       "name": "EPSG3857"
      },
      "default_style": "IPY_MODEL_1c42eea0ba6f4a00b594b7317991a774",
      "double_click_zoom": true,
      "dragging": true,
      "dragging_style": "IPY_MODEL_a6b2219658314282b9714ead2b5bcbb8",
      "east": -4.862265586853028,
      "fullscreen": false,
      "inertia": true,
      "inertia_deceleration": 3000,
      "inertia_max_speed": 1500,
      "interpolation": "bilinear",
      "keyboard": true,
      "keyboard_pan_offset": 80,
      "keyboard_zoom_offset": 1,
      "layers": [
       "IPY_MODEL_fa72b583a1fd4247911a5500ec07dc62",
       "IPY_MODEL_7dfc8a56f36447f388cd7450ad0f209e"
      ],
      "layout": "IPY_MODEL_075be31fc63941ab8c7f3c0ac8ee27d4",
      "left": 8160901,
      "max_zoom": null,
      "min_zoom": null,
      "modisdate": "2023-10-25",
      "north": 41.77675258417862,
      "options": [
       "bounce_at_zoom_limits",
       "box_zoom",
       "center",
       "close_popup_on_click",
       "double_click_zoom",
       "dragging",
       "fullscreen",
       "inertia",
       "inertia_deceleration",
       "inertia_max_speed",
       "interpolation",
       "keyboard",
       "keyboard_pan_offset",
       "keyboard_zoom_offset",
       "max_zoom",
       "min_zoom",
       "prefer_canvas",
       "scroll_wheel_zoom",
       "tap",
       "tap_tolerance",
       "touch_zoom",
       "world_copy_jump",
       "zoom",
       "zoom_animation_threshold",
       "zoom_delta",
       "zoom_snap"
      ],
      "panes": {},
      "prefer_canvas": false,
      "right": 8162010,
      "scroll_wheel_zoom": false,
      "south": 41.77035147225083,
      "style": "IPY_MODEL_78e3180acb034052bdfe52ecbcde3dd2",
      "tap": true,
      "tap_tolerance": 15,
      "top": 6241964,
      "touch_zoom": true,
      "west": -4.886062145233155,
      "window_url": "https://zzuftopcnl9-496ff2e9c6d22116-0-colab.googleusercontent.com/outputframe.html?vrz=colab_20231024-060124_RC00_576097381",
      "world_copy_jump": false,
      "zoom": 16,
      "zoom_animation_threshold": 4,
      "zoom_delta": 1,
      "zoom_snap": 1
     }
    },
    "fa72b583a1fd4247911a5500ec07dc62": {
     "model_module": "jupyter-leaflet",
     "model_module_version": "^0.17",
     "model_name": "LeafletTileLayerModel",
     "state": {
      "_model_module": "jupyter-leaflet",
      "_model_module_version": "^0.17",
      "_model_name": "LeafletTileLayerModel",
      "_view_count": null,
      "_view_module": "jupyter-leaflet",
      "_view_module_version": "^0.17",
      "_view_name": "LeafletTileLayerView",
      "attribution": "Tiles &copy; Esri &mdash; Source: Esri, i-cubed, USDA, USGS, AEX, GeoEye, Getmapping, Aerogrid, IGN, IGP, UPR-EGP, and the GIS User Community",
      "base": true,
      "bottom": true,
      "bounds": null,
      "detect_retina": false,
      "loading": false,
      "max_native_zoom": null,
      "max_zoom": 18,
      "min_native_zoom": null,
      "min_zoom": 1,
      "name": "Esri.WorldImagery",
      "no_wrap": false,
      "opacity": 1,
      "options": [
       "attribution",
       "bounds",
       "detect_retina",
       "max_native_zoom",
       "max_zoom",
       "min_native_zoom",
       "min_zoom",
       "no_wrap",
       "tile_size",
       "tms",
       "zoom_offset"
      ],
      "pane": "",
      "popup": null,
      "popup_max_height": null,
      "popup_max_width": 300,
      "popup_min_width": 50,
      "show_loading": false,
      "subitems": [],
      "tile_size": 256,
      "tms": false,
      "url": "https://server.arcgisonline.com/ArcGIS/rest/services/World_Imagery/MapServer/tile/{z}/{y}/{x}",
      "visible": true,
      "zoom_offset": 0
     }
    }
   }
  }
 },
 "nbformat": 4,
 "nbformat_minor": 5
}
