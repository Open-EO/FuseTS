{
 "cells": [
  {
   "cell_type": "markdown",
   "id": "310ba4d2-9ce2-4f0a-9d1a-4e209f8d7848",
   "metadata": {},
   "source": [
    "# MOGPR S1 S2 inputs\n",
    "Notebook to support the inspection of the data inputs for MOGPR S1 S2 function"
   ]
  },
  {
   "cell_type": "code",
   "execution_count": 1,
   "id": "03999eac-c161-4d67-b6de-fc61b6dc066d",
   "metadata": {},
   "outputs": [
    {
     "name": "stdout",
     "output_type": "stream",
     "text": [
      "['/Users/bramjanssen/projects/vito/src', '/Users/bramjanssen/projects/vito/FuseTS/notebooks', '/Users/bramjanssen/.pyenv/versions/3.8.17/lib/python38.zip', '/Users/bramjanssen/.pyenv/versions/3.8.17/lib/python3.8', '/Users/bramjanssen/.pyenv/versions/3.8.17/lib/python3.8/lib-dynload', '', '/Users/bramjanssen/projects/vito/FuseTS/venv_clean_v2/lib/python3.8/site-packages']\n"
     ]
    }
   ],
   "source": [
    "## Import the current FuseTS code\n",
    "\n",
    "import sys\n",
    "import os\n",
    "sys.path.insert(0, os.path.abspath('../../src'))\n",
    "print(sys.path)"
   ]
  },
  {
   "cell_type": "code",
   "execution_count": 2,
   "id": "cc01ebe0-fc11-4d8d-be80-be7fff138a14",
   "metadata": {},
   "outputs": [],
   "source": [
    "import openeo"
   ]
  },
  {
   "cell_type": "code",
   "execution_count": 3,
   "id": "a445191f-e93f-4a76-8166-c27913ec9f7b",
   "metadata": {},
   "outputs": [
    {
     "name": "stdout",
     "output_type": "stream",
     "text": [
      "Authenticated using refresh token.\n"
     ]
    }
   ],
   "source": [
    "connection = openeo.connect(\"openeo.vito.be\").authenticate_oidc()"
   ]
  },
  {
   "cell_type": "code",
   "execution_count": 4,
   "id": "c4a5acb7-0d24-4e5c-8f23-f253a907cb93",
   "metadata": {},
   "outputs": [],
   "source": [
    "spat_ext = {\n",
    "        \"type\": \"Polygon\",\n",
    "        \"coordinates\": [\n",
    "            [\n",
    "                [\n",
    "                    12.502373837196238,\n",
    "                    42.06404350608216\n",
    "                ],\n",
    "                [\n",
    "                    12.502124488464212,\n",
    "                    42.03089916587777\n",
    "                ],\n",
    "                [\n",
    "                    12.571692784699895,\n",
    "                    42.031269589226014\n",
    "                ],\n",
    "                [\n",
    "                    12.57156811033388,\n",
    "                    42.06663507169753\n",
    "                ],\n",
    "                [\n",
    "                    12.502373837196238,\n",
    "                    42.06404350608216\n",
    "                ]\n",
    "            ]\n",
    "        ],\n",
    "    }\n",
    "temp_ext = [\"2023-01-01\", \"2023-12-31\"]"
   ]
  },
  {
   "cell_type": "code",
   "execution_count": 5,
   "id": "3e02b850-fee5-4cbc-99b3-abf078dced7c",
   "metadata": {},
   "outputs": [],
   "source": [
    "def execute_batch(datacube, output_file, title):\n",
    "    datacube.execute_batch(\n",
    "        output_file,\n",
    "        title=title,\n",
    "        job_options={\n",
    "            \"udf-dependency-archives\": [\n",
    "                \"https://artifactory.vgt.vito.be:443/artifactory/auxdata-public/ai4food/fusets_venv.zip#tmp/venv\",\n",
    "                \"https://artifactory.vgt.vito.be:443/artifactory/auxdata-public/ai4food/fusets.zip#tmp/venv_static\",\n",
    "            ],\n",
    "            \"executor-memory\": \"8g\",\n",
    "        },\n",
    "    )"
   ]
  },
  {
   "cell_type": "markdown",
   "id": "cb7095ad-196f-4de4-afc7-5225051d7d72",
   "metadata": {},
   "source": [
    "## Inputs"
   ]
  },
  {
   "cell_type": "code",
   "execution_count": null,
   "id": "5cc47c32-70e0-4855-a010-69316a3e28a8",
   "metadata": {},
   "outputs": [
    {
     "name": "stderr",
     "output_type": "stream",
     "text": [
      "/Users/bramjanssen/projects/vito/FuseTS/venv_clean_v2/lib/python3.8/site-packages/openeo/rest/connection.py:1131: UserWarning: SENTINEL1_GRD property filtering with properties that are undefined in the collection metadata (summaries): resolution.\n",
      "  return DataCube.load_collection(\n",
      "/Users/bramjanssen/projects/vito/FuseTS/venv_clean_v2/lib/python3.8/site-packages/openeo/metadata.py:304: UserWarning: Band name mismatch: ['VV', 'VH', 'HH', 'HV', 'dataMask'] != ['VV', 'VH', 'HV', 'HH', 'dataMask']\n",
      "  complain(\"Band name mismatch: {a} != {b}\".format(a=cube_dimension_band_names, b=eo_band_names))\n",
      "/Users/bramjanssen/projects/vito/FuseTS/venv_clean_v2/lib/python3.8/site-packages/openeo/rest/connection.py:1131: UserWarning: SENTINEL1_GAMMA0_SENTINELHUB property filtering with properties that are undefined in the collection metadata (summaries): polarization.\n",
      "  return DataCube.load_collection(\n",
      "/Users/bramjanssen/projects/vito/FuseTS/venv_clean_v2/lib/python3.8/site-packages/openeo/metadata.py:264: UserWarning: No cube:dimensions metadata\n",
      "  complain(\"No cube:dimensions metadata\")\n"
     ]
    },
    {
     "name": "stdout",
     "output_type": "stream",
     "text": [
      "0:00:00 Job 'j-2401251b11f843cdbda7d723f1641c69': send 'start'\n",
      "0:00:38 Job 'j-2401251b11f843cdbda7d723f1641c69': queued (progress N/A)\n",
      "0:00:43 Job 'j-2401251b11f843cdbda7d723f1641c69': queued (progress N/A)\n",
      "0:00:50 Job 'j-2401251b11f843cdbda7d723f1641c69': queued (progress N/A)\n",
      "0:01:00 Job 'j-2401251b11f843cdbda7d723f1641c69': queued (progress N/A)\n"
     ]
    }
   ],
   "source": [
    "from fusets.openeo.services.publish_mogpr_s1_s2 import generate_input_cube\n",
    "\n",
    "mogpr_inputs = connection.datacube_from_flat_graph(generate_input_cube(connection, 'RVI DESC', 'NDVI', spat_ext, temp_ext).flat_graph())\n",
    "execute_batch(mogpr_inputs, \"./result_mogpr_s1_s2_inputs.nc\",\"FuseTS - MOGPR S1 S2 - Local - Inputs - DESC\")"
   ]
  },
  {
   "cell_type": "markdown",
   "id": "48f46d8c-e649-43d8-a796-3638eed0fc91",
   "metadata": {},
   "source": [
    "## Outputs"
   ]
  },
  {
   "cell_type": "code",
   "execution_count": null,
   "id": "e65f04fe-b3e9-46aa-a96c-4d8f83e36cc0",
   "metadata": {},
   "outputs": [],
   "source": [
    "from fusets.openeo.services.publish_mogpr_s1_s2 import generate_cube\n",
    "\n",
    "mogpr_inputs = connection.datacube_from_flat_graph(generate_cube(connection, 'RVI DESC', 'NDVI', spat_ext, temp_ext).flat_graph())\n",
    "execute_batch(mogpr_inputs, \"./result_mogpr_s1_s2_outputs.nc\",\"FuseTS - MOGPR S1 S2 - Local - Outputs - DESC\")"
   ]
  },
  {
   "cell_type": "code",
   "execution_count": null,
   "id": "e5547537-403b-4f9c-80b1-9ff4a9d23eb4",
   "metadata": {},
   "outputs": [],
   "source": []
  }
 ],
 "metadata": {
  "kernelspec": {
   "display_name": "Python 3 (ipykernel)",
   "language": "python",
   "name": "python3"
  },
  "language_info": {
   "codemirror_mode": {
    "name": "ipython",
    "version": 3
   },
   "file_extension": ".py",
   "mimetype": "text/x-python",
   "name": "python",
   "nbconvert_exporter": "python",
   "pygments_lexer": "ipython3",
   "version": "3.8.17"
  }
 },
 "nbformat": 4,
 "nbformat_minor": 5
}
