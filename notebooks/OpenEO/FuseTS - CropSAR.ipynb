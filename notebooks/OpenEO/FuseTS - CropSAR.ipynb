{
 "cells": [
  {
   "cell_type": "markdown",
   "metadata": {},
   "source": [
    "# FuseTS - CropSAR\n",
    "This Jupyter Notebook implements the CropSAR service, which is part of the FuseTS toolbox. The purpose of this notebook is to demonstrate the usage of openEO to execute the CropSAR service for a specific area of interest (AOI).\n",
    "\n",
    "The CropSAR service is designed to provide valuable insights into crop monitoring and analysis by augmernting Sentinel-2 observations using that uses Sentinel-1 radar. This process enables the monitoring of agricultural fields regardless of weather conditions or daylight, making it a powerful tool for crop assessment.\n",
    "\n",
    "\n",
    "\n"
   ]
  },
  {
   "cell_type": "markdown",
   "metadata": {},
   "source": [
    "## Setting up the OpenEO process\n",
    "The first step includes setting up the OpenEO processing through the [OpenEO Python Client](https://open-eo.github.io/openeo-python-client/). Since the CropSAR algorithm is integrated as an [user defined process](https://open-eo.github.io/openeo-python-client/cookbook/udp_sharing.html), we can use the `datacube_from_process` function to execute the service."
   ]
  },
  {
   "cell_type": "code",
   "execution_count": 1,
   "metadata": {
    "ExecuteTime": {
     "end_time": "2023-05-09T07:58:05.829823548Z",
     "start_time": "2023-05-09T07:58:04.408445119Z"
    }
   },
   "outputs": [],
   "source": [
    "import openeo\n",
    "import datetime\n",
    "import tempfile\n",
    "import os\n",
    "import xarray\n",
    "import matplotlib.pyplot as plt"
   ]
  },
  {
   "cell_type": "code",
   "execution_count": 2,
   "metadata": {
    "ExecuteTime": {
     "end_time": "2023-05-09T07:58:08.420337433Z",
     "start_time": "2023-05-09T07:58:08.093937709Z"
    }
   },
   "outputs": [
    {
     "name": "stdout",
     "output_type": "stream",
     "text": [
      "Authenticated using refresh token.\n"
     ]
    }
   ],
   "source": [
    "connection = openeo.connect(\"openeo.vito.be\").authenticate_oidc()\n",
    "service = 'CropSAR_px'\n",
    "namespace = 'vito'"
   ]
  },
  {
   "cell_type": "code",
   "execution_count": 3,
   "metadata": {},
   "outputs": [
    {
     "data": {
      "text/html": [
       "\n",
       "    <script>\n",
       "    if (!window.customElements || !window.customElements.get('openeo-process')) {\n",
       "        var el = document.createElement('script');\n",
       "        el.src = \"https://cdn.jsdelivr.net/npm/@openeo/vue-components@2/assets/openeo.min.js\";\n",
       "        document.head.appendChild(el);\n",
       "\n",
       "        var font = document.createElement('font');\n",
       "        font.as = \"font\";\n",
       "        font.type = \"font/woff2\";\n",
       "        font.crossOrigin = true;\n",
       "        font.href = \"https://use.fontawesome.com/releases/v5.13.0/webfonts/fa-solid-900.woff2\"\n",
       "        document.head.appendChild(font);\n",
       "    }\n",
       "    </script>\n",
       "    <openeo-process>\n",
       "        <script type=\"application/json\">{\"show-graph\": true, \"provide-download\": false, \"process\": {\"description\": \"# CropSAR_px\\n\\n## Description\\n\\nTechnical description of the algorithm.\\n\\n## Usage\\n\\nThis code example highlights the usage of the CropSAR_px process in an OpenEO batch job.\\nThe result of this batch job will consist of individual GeoTIFF files per date.\\nGenerating multiple GeoTIFF files as output is only possible in a batch job.\\n\\n```python\\nimport openeo\\n\\n# define ROI and TOI\\ngeometry = {\\n    \\\"type\\\": \\\"Polygon\\\",\\n    \\\"coordinates\\\": [\\n        [\\n            [\\n                5.034656524658203,\\n                51.20946446493662\\n            ],\\n            [\\n                5.080232620239258,\\n                51.20946446493662\\n            ],\\n            [\\n                5.080232620239258,\\n                51.234084900561015\\n            ],\\n            [\\n                5.034656524658203,\\n                51.234084900561015\\n            ],\\n            [\\n                5.034656524658203,\\n                51.20946446493662\\n            ]\\n        ]\\n    ]\\n}\\n\\nstartdate = \\\"2020-05-01\\\"\\nenddate = \\\"2020-06-01\\\"\\n\\n# get datacube\\nconnection = openeo.connect(\\\"https://openeo.vito.be\\\")\\ncube = connection.datacube_from_process(\\n    \\\"CropSAR_px\\\",\\n    namespace=\\\"vito\\\",\\n    geometry=geometry,\\n    startdate=startdate,\\n    enddate=enddate,\\n    version=2,\\n    model_path=\\\"tmp/model/cnn_transformer/\\\",\\n    path_extras=[\\\"tmp/env/env/\\\"]\\n)\\njob = cube.execute_batch(\\n    title=\\\"CropSAR_px\\\",\\n    out_format=\\\"GTIFF\\\",\\n    job_options={\\n        \\\"executor-cores\\\": \\\"8\\\",\\n        \\\"task-cpus\\\": \\\"8\\\",\\n        \\\"executor-memoryOverhead\\\": \\\"2g\\\",\\n        \\\"udf-dependency-archives\\\": [\\n            \\\"https://artifactory.vgt.vito.be/auxdata-public/cropsar_px/20230504T175919_cnn_transformer.zip#tmp/model/cnn_transformer\\\",\\n            \\\"https://artifactory.vgt.vito.be/auxdata-public/cropsar_px/env.tar.gz#tmp/env\\\"\\n        ]\\n    }\\n)\\nresults = job.get_results()\\nresults.download_files(\\\"out\\\")  # write files to output directory\\n```\\n\\n### Scaling\\nThe output contains NDVI values in the interval [-0.08; 1] scaled to the byte output range [0; 250].\\nIf you want to convert back to the physical values, you have to use the following scaling factor: `x * 0.00432 - 0.08`\\n\\n## Limitations\\n\\nThe spatial extent is limited to a maximum size equal to a Sentinel-2 MGRS tile (100 km x 100 km).\\nThe temporal extent is limited to 1 year.\\n\\nFor large spatial areas or temporal intervals, it is recommended to split the job in multiple smaller tasks.\\n\\n## Configuration & Resource Usage\\n\\nHere is an overview of run configurations for different ROI/TOI with memory requirements and estimated run durations.\\n\\n### Batch jobs\\n\\n| Spatial extent | Temporal extent | Executor memory | Run duration (sec) | Cost (credits) |\\n|----------------|-----------------|-----------------|--------------------|----------------|\\n| 100 m x 100 m  | 1 month         | default         | 171                | 22             |\\n| 500 m x 100 m  | 1 month         | default         | 220                | 29             |\\n| 1 km x 1 km    | 1 month         | default         | 220                | 29             |\\n| 5 km x 5 km    | 1 month         | default         | 301                | 44             |\\n| 10 km x 10 km  | 1 month         | 6 GB            | 520                | 90             |\\n| 100m x 100 m   | 7 months        | default         | 258                | 32             |\\n| 500 m x 500 m  | 7 months        | default         | 233                | 31             |\\n| 1 km x 1 km    | 7 months        | default         | 248                | 35             |\\n| 5 km x 5 km    | 7 months        | default         | 372                | 66             |\\n| 10 km x 10 km  | 7 months        | 6 GB            | 736                | 133            |\\n\\nThe executor memory defaults to 5 GB. You can increase the executor memory by specifying it as a job option, eg:\\n\\n```python\\njob = cube.execute_batch(out_format=\\\"GTIFF\\\", job_options={\\\"executor-memory\\\": \\\"7g\\\"})\\n```\", \"id\": \"CropSAR_px\", \"parameters\": [{\"description\": \"Geometry as GeoJSON feature(s).\", \"name\": \"geometry\", \"schema\": {\"subtype\": \"geojson\", \"type\": \"object\"}}, {\"description\": \"start of the temporal interval\", \"name\": \"startdate\", \"schema\": {\"type\": \"string\"}}, {\"description\": \"end of the temporal interval\", \"name\": \"enddate\", \"schema\": {\"type\": \"string\"}}, {\"default\": false, \"description\": \"only use prior information (NRT mode)\", \"name\": \"nrt\", \"optional\": true, \"schema\": {\"type\": \"boolean\"}}, {\"default\": true, \"description\": \"indicates whether to only use inpainting or predict the whole output\", \"name\": \"inpaint_only\", \"optional\": true, \"schema\": {\"type\": \"boolean\"}}, {\"default\": false, \"description\": \"indicates whether to output a ground truth mask\", \"name\": \"output_mask\", \"optional\": true, \"schema\": {\"type\": \"boolean\"}}, {\"default\": null, \"description\": \"list of dates for which Sentinel-2 acquisitions will be dropped in the input\", \"name\": \"drop_dates\", \"optional\": true, \"schema\": {\"type\": \"array\"}}, {\"default\": 2, \"description\": \"Version of CropSAR_px to use. Supported: 1 and 2\", \"name\": \"version\", \"optional\": true, \"schema\": {\"type\": \"integer\"}}, {\"default\": null, \"description\": \"Experimental: path of the model to use\", \"name\": \"model_path\", \"optional\": true, \"schema\": {\"type\": \"string\"}}, {\"default\": null, \"description\": \"Experimental: extra path entries\", \"name\": \"path_extras\", \"optional\": true, \"schema\": {\"type\": \"array\"}}], \"summary\": \"CropSAR_px\"}}</script>\n",
       "    </openeo-process>\n",
       "    "
      ],
      "text/plain": [
       "{'description': '# CropSAR_px\\n\\n## Description\\n\\nTechnical description of the algorithm.\\n\\n## Usage\\n\\nThis code example highlights the usage of the CropSAR_px process in an OpenEO batch job.\\nThe result of this batch job will consist of individual GeoTIFF files per date.\\nGenerating multiple GeoTIFF files as output is only possible in a batch job.\\n\\n```python\\nimport openeo\\n\\n# define ROI and TOI\\ngeometry = {\\n    \"type\": \"Polygon\",\\n    \"coordinates\": [\\n        [\\n            [\\n                5.034656524658203,\\n                51.20946446493662\\n            ],\\n            [\\n                5.080232620239258,\\n                51.20946446493662\\n            ],\\n            [\\n                5.080232620239258,\\n                51.234084900561015\\n            ],\\n            [\\n                5.034656524658203,\\n                51.234084900561015\\n            ],\\n            [\\n                5.034656524658203,\\n                51.20946446493662\\n            ]\\n        ]\\n    ]\\n}\\n\\nstartdate = \"2020-05-01\"\\nenddate = \"2020-06-01\"\\n\\n# get datacube\\nconnection = openeo.connect(\"https://openeo.vito.be\")\\ncube = connection.datacube_from_process(\\n    \"CropSAR_px\",\\n    namespace=\"vito\",\\n    geometry=geometry,\\n    startdate=startdate,\\n    enddate=enddate,\\n    version=2,\\n    model_path=\"tmp/model/cnn_transformer/\",\\n    path_extras=[\"tmp/env/env/\"]\\n)\\njob = cube.execute_batch(\\n    title=\"CropSAR_px\",\\n    out_format=\"GTIFF\",\\n    job_options={\\n        \"executor-cores\": \"8\",\\n        \"task-cpus\": \"8\",\\n        \"executor-memoryOverhead\": \"2g\",\\n        \"udf-dependency-archives\": [\\n            \"https://artifactory.vgt.vito.be/auxdata-public/cropsar_px/20230504T175919_cnn_transformer.zip#tmp/model/cnn_transformer\",\\n            \"https://artifactory.vgt.vito.be/auxdata-public/cropsar_px/env.tar.gz#tmp/env\"\\n        ]\\n    }\\n)\\nresults = job.get_results()\\nresults.download_files(\"out\")  # write files to output directory\\n```\\n\\n### Scaling\\nThe output contains NDVI values in the interval [-0.08; 1] scaled to the byte output range [0; 250].\\nIf you want to convert back to the physical values, you have to use the following scaling factor: `x * 0.00432 - 0.08`\\n\\n## Limitations\\n\\nThe spatial extent is limited to a maximum size equal to a Sentinel-2 MGRS tile (100 km x 100 km).\\nThe temporal extent is limited to 1 year.\\n\\nFor large spatial areas or temporal intervals, it is recommended to split the job in multiple smaller tasks.\\n\\n## Configuration & Resource Usage\\n\\nHere is an overview of run configurations for different ROI/TOI with memory requirements and estimated run durations.\\n\\n### Batch jobs\\n\\n| Spatial extent | Temporal extent | Executor memory | Run duration (sec) | Cost (credits) |\\n|----------------|-----------------|-----------------|--------------------|----------------|\\n| 100 m x 100 m  | 1 month         | default         | 171                | 22             |\\n| 500 m x 100 m  | 1 month         | default         | 220                | 29             |\\n| 1 km x 1 km    | 1 month         | default         | 220                | 29             |\\n| 5 km x 5 km    | 1 month         | default         | 301                | 44             |\\n| 10 km x 10 km  | 1 month         | 6 GB            | 520                | 90             |\\n| 100m x 100 m   | 7 months        | default         | 258                | 32             |\\n| 500 m x 500 m  | 7 months        | default         | 233                | 31             |\\n| 1 km x 1 km    | 7 months        | default         | 248                | 35             |\\n| 5 km x 5 km    | 7 months        | default         | 372                | 66             |\\n| 10 km x 10 km  | 7 months        | 6 GB            | 736                | 133            |\\n\\nThe executor memory defaults to 5 GB. You can increase the executor memory by specifying it as a job option, eg:\\n\\n```python\\njob = cube.execute_batch(out_format=\"GTIFF\", job_options={\"executor-memory\": \"7g\"})\\n```',\n",
       " 'id': 'CropSAR_px',\n",
       " 'parameters': [{'description': 'Geometry as GeoJSON feature(s).',\n",
       "   'name': 'geometry',\n",
       "   'schema': {'subtype': 'geojson', 'type': 'object'}},\n",
       "  {'description': 'start of the temporal interval',\n",
       "   'name': 'startdate',\n",
       "   'schema': {'type': 'string'}},\n",
       "  {'description': 'end of the temporal interval',\n",
       "   'name': 'enddate',\n",
       "   'schema': {'type': 'string'}},\n",
       "  {'default': False,\n",
       "   'description': 'only use prior information (NRT mode)',\n",
       "   'name': 'nrt',\n",
       "   'optional': True,\n",
       "   'schema': {'type': 'boolean'}},\n",
       "  {'default': True,\n",
       "   'description': 'indicates whether to only use inpainting or predict the whole output',\n",
       "   'name': 'inpaint_only',\n",
       "   'optional': True,\n",
       "   'schema': {'type': 'boolean'}},\n",
       "  {'default': False,\n",
       "   'description': 'indicates whether to output a ground truth mask',\n",
       "   'name': 'output_mask',\n",
       "   'optional': True,\n",
       "   'schema': {'type': 'boolean'}},\n",
       "  {'default': None,\n",
       "   'description': 'list of dates for which Sentinel-2 acquisitions will be dropped in the input',\n",
       "   'name': 'drop_dates',\n",
       "   'optional': True,\n",
       "   'schema': {'type': 'array'}},\n",
       "  {'default': 2,\n",
       "   'description': 'Version of CropSAR_px to use. Supported: 1 and 2',\n",
       "   'name': 'version',\n",
       "   'optional': True,\n",
       "   'schema': {'type': 'integer'}},\n",
       "  {'default': None,\n",
       "   'description': 'Experimental: path of the model to use',\n",
       "   'name': 'model_path',\n",
       "   'optional': True,\n",
       "   'schema': {'type': 'string'}},\n",
       "  {'default': None,\n",
       "   'description': 'Experimental: extra path entries',\n",
       "   'name': 'path_extras',\n",
       "   'optional': True,\n",
       "   'schema': {'type': 'array'}}],\n",
       " 'summary': 'CropSAR_px'}"
      ]
     },
     "execution_count": 3,
     "metadata": {},
     "output_type": "execute_result"
    }
   ],
   "source": [
    "connection.describe_process(service, namespace=namespace)"
   ]
  },
  {
   "cell_type": "markdown",
   "metadata": {},
   "source": [
    "connection.describe_process(service, namespace=namespace)## Retrieve `CropSAR_px` process\n",
    "Look for `CropSAR_px` process in the `vito` namespace. Especially the *Parameters* section of the process is of interest."
   ]
  },
  {
   "cell_type": "markdown",
   "metadata": {},
   "source": [
    "### Use `datacube_from_process` to get initial DataCube\n",
    "Get output datacube from process by passing in the process parameters:\n",
    "**Mandatory**\n",
    "- `geometry`: GeoJSON feature\n",
    "- `startdate`: start of temporal interval\n",
    "- `enddate`: end of temporal interval\n",
    "\n",
    "**Optional**\n",
    "- `nrt`: only use prior information (default: false)\n",
    "- `inpaint_only`: only predict areas with no ground truth data (default: true)\n",
    "- `output_mask`: output ground truth mask (deafult: false)\n",
    "- `drop_dates`: list of dates"
   ]
  },
  {
   "cell_type": "code",
   "execution_count": 4,
   "metadata": {
    "ExecuteTime": {
     "end_time": "2023-05-09T07:58:28.355015289Z",
     "start_time": "2023-05-09T07:58:28.333690175Z"
    }
   },
   "outputs": [
    {
     "name": "stderr",
     "output_type": "stream",
     "text": [
      "/Users/bramjanssen/projects/vito/FuseTS/venv/lib/python3.8/site-packages/openeo/metadata.py:255: UserWarning: No cube:dimensions metadata\n",
      "  complain(\"No cube:dimensions metadata\")\n"
     ]
    }
   ],
   "source": [
    "geometry = {\n",
    "    \"type\": \"Polygon\",\n",
    "    \"coordinates\": [\n",
    "        [\n",
    "            [\n",
    "                5.034656524658203,\n",
    "                51.20946446493662\n",
    "            ],\n",
    "            [\n",
    "                5.080232620239258,\n",
    "                51.20946446493662\n",
    "            ],\n",
    "            [\n",
    "                5.080232620239258,\n",
    "                51.234084900561015\n",
    "            ],\n",
    "            [\n",
    "                5.034656524658203,\n",
    "                51.234084900561015\n",
    "            ],\n",
    "            [\n",
    "                5.034656524658203,\n",
    "                51.20946446493662\n",
    "            ]\n",
    "        ]\n",
    "    ]\n",
    "}\n",
    "\n",
    "dates = ['2021-07-01', '2021-07-31']\n",
    "\n",
    "datacube = connection.datacube_from_process(\n",
    "    service, namespace=namespace,\n",
    "    geometry=geometry,\n",
    "    startdate=dates[0],\n",
    "    enddate=dates[1],\n",
    "    version=2,\n",
    "    model_path=\"tmp/model/cnn_transformer/\",\n",
    "    path_extras=[\"tmp/env/env/\"]\n",
    ")"
   ]
  },
  {
   "cell_type": "markdown",
   "metadata": {},
   "source": [
    "### Execute job and download result"
   ]
  },
  {
   "cell_type": "code",
   "execution_count": 5,
   "metadata": {
    "ExecuteTime": {
     "end_time": "2023-05-09T08:38:36.969205979Z",
     "start_time": "2023-05-09T07:58:36.655683227Z"
    }
   },
   "outputs": [
    {
     "name": "stdout",
     "output_type": "stream",
     "text": [
      "0:00:00 Job 'j-93cb50a9726e486c93ea4726f89017d0': send 'start'\n",
      "0:02:41 Job 'j-93cb50a9726e486c93ea4726f89017d0': queued (progress N/A)\n",
      "0:02:46 Job 'j-93cb50a9726e486c93ea4726f89017d0': queued (progress N/A)\n",
      "0:02:53 Job 'j-93cb50a9726e486c93ea4726f89017d0': queued (progress N/A)\n",
      "0:03:01 Job 'j-93cb50a9726e486c93ea4726f89017d0': queued (progress N/A)\n",
      "0:03:11 Job 'j-93cb50a9726e486c93ea4726f89017d0': queued (progress N/A)\n",
      "0:03:23 Job 'j-93cb50a9726e486c93ea4726f89017d0': queued (progress N/A)\n",
      "0:04:05 Job 'j-93cb50a9726e486c93ea4726f89017d0': queued (progress N/A)\n",
      "0:04:24 Job 'j-93cb50a9726e486c93ea4726f89017d0': queued (progress N/A)\n",
      "0:04:48 Job 'j-93cb50a9726e486c93ea4726f89017d0': queued (progress N/A)\n",
      "0:05:18 Job 'j-93cb50a9726e486c93ea4726f89017d0': queued (progress N/A)\n",
      "0:05:56 Job 'j-93cb50a9726e486c93ea4726f89017d0': queued (progress N/A)\n",
      "0:06:42 Job 'j-93cb50a9726e486c93ea4726f89017d0': running (progress N/A)\n",
      "0:07:41 Job 'j-93cb50a9726e486c93ea4726f89017d0': running (progress N/A)\n",
      "0:08:41 Job 'j-93cb50a9726e486c93ea4726f89017d0': running (progress N/A)\n",
      "0:10:02 Job 'j-93cb50a9726e486c93ea4726f89017d0': finished (progress N/A)\n"
     ]
    }
   ],
   "source": [
    "output_file = './cropsar.nc'\n",
    "job = datacube.execute_batch(\n",
    "    title=\"FuseTS - CropSAR\",\n",
    "    out_format=\"netcdf\",\n",
    "    job_options={\n",
    "        \"executor-cores\": \"8\",\n",
    "        \"task-cpus\": \"8\",\n",
    "        \"executor-memoryOverhead\": \"2g\",\n",
    "        \"udf-dependency-archives\": [\n",
    "            \"https://artifactory.vgt.vito.be/auxdata-public/cropsar_px/20230504T175919_cnn_transformer.zip#tmp/model/cnn_transformer\",\n",
    "            \"https://artifactory.vgt.vito.be/auxdata-public/cropsar_px/env.tar.gz#tmp/env\"\n",
    "        ]\n",
    "    }\n",
    ")\n",
    "results = job.get_results().download_file('./cropsar.nc')"
   ]
  },
  {
   "cell_type": "markdown",
   "metadata": {},
   "source": [
    "## Explore results\n",
    "The first band of the output will be the CropSAR_px NDVI prediction.\n",
    "The second band contains the Sentinel-2 input mask (if requested via `output_mask`). The values of this mask have the following meaning:\n",
    " - 0: no data (clouds, ...)\n",
    " - 1: ground truth data\n",
    " - 2: manually masked (via `drop_dates` parameter)\n",
    "\n",
    "### Scaling\n",
    "The output contains NDVI values in the interval [-0.08; 1] scaled to the byte output range [0; 250].\n",
    "If you want to convert back to the physical values, you have to use the following scaling factor: `x * 0.00432 - 0.08`\n"
   ]
  },
  {
   "cell_type": "code",
   "execution_count": null,
   "metadata": {
    "ExecuteTime": {
     "end_time": "2023-05-09T08:45:08.566848114Z",
     "start_time": "2023-05-09T08:45:04.536070296Z"
    }
   },
   "outputs": [],
   "source": [
    "import holoviews as hv\n",
    "\n",
    "output_file = './cropsar.nc'\n",
    "ds = xarray.open_dataset(output_file)\n",
    "ds = ds.where(ds != 255)  # filter no data value\n",
    "\n",
    "\n",
    "hv.extension('bokeh')\n",
    "%output holomap='scrubber'\n",
    "%opts Image style(cmap='viridis') plot[colorbar=True]\n",
    "%opts Image [width=500, height=400]\n",
    "hv_ds = hv.Dataset(ds.NDVI)\n",
    "hv_ds.to(hv.Image, ['x', 'y'])"
   ]
  },
  {
   "cell_type": "code",
   "execution_count": null,
   "metadata": {},
   "outputs": [],
   "source": []
  }
 ],
 "metadata": {
  "kernelspec": {
   "display_name": "Python 3 (ipykernel)",
   "language": "python",
   "name": "python3"
  },
  "language_info": {
   "codemirror_mode": {
    "name": "ipython",
    "version": 3
   },
   "file_extension": ".py",
   "mimetype": "text/x-python",
   "name": "python",
   "nbconvert_exporter": "python",
   "pygments_lexer": "ipython3",
   "version": "3.8.17"
  }
 },
 "nbformat": 4,
 "nbformat_minor": 4
}
